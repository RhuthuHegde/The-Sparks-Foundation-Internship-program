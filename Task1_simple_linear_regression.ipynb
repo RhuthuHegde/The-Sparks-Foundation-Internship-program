{
  "nbformat": 4,
  "nbformat_minor": 0,
  "metadata": {
    "colab": {
      "name": "Task1_simple_linear_regression.ipynb",
      "provenance": [],
      "collapsed_sections": [],
      "authorship_tag": "ABX9TyOMqEgy1w0a2j5gzRSZA7/a",
      "include_colab_link": true
    },
    "kernelspec": {
      "name": "python3",
      "display_name": "Python 3"
    },
    "language_info": {
      "name": "python"
    }
  },
  "cells": [
    {
      "cell_type": "markdown",
      "metadata": {
        "id": "view-in-github",
        "colab_type": "text"
      },
      "source": [
        "<a href=\"https://colab.research.google.com/github/RhuthuHegde/The-Sparks-Foundation-Internship-program/blob/main/Task1_simple_linear_regression.ipynb\" target=\"_parent\"><img src=\"https://colab.research.google.com/assets/colab-badge.svg\" alt=\"Open In Colab\"/></a>"
      ]
    },
    {
      "cell_type": "markdown",
      "metadata": {
        "id": "huIabovN8KEV"
      },
      "source": [
        "# **Prediction Using Supervised ML**\n",
        "###**Linear Regression with Python Scikit Learn**\n",
        "\n",
        "\n",
        "---\n",
        "\n",
        "\n",
        "In this section we will see how the Python Scikit-Learn library for machine learning can be used to implement regression functions. We will start with simple linear regression involving two variables.\n",
        "\n",
        "**Simple Linear Regression**\n",
        "\n",
        "In this regression task we will predict the percentage of marks that a student is expected to score based upon the number of hours they studied. This is a simple linear regression task as it involves just two variables."
      ]
    },
    {
      "cell_type": "markdown",
      "metadata": {
        "id": "TXGUEtF-9JSD"
      },
      "source": [
        "**Coded By: Rhuthu Hegde**\n",
        "\n",
        "**The Sparks Foundation Internship Program**:\n",
        "\n",
        "Data Science\n",
        "& Business\n",
        "Analytics\n",
        "\n",
        "**June 2021** "
      ]
    },
    {
      "cell_type": "markdown",
      "metadata": {
        "id": "7t8buem1FSvf"
      },
      "source": [
        "**Importing libraries**"
      ]
    },
    {
      "cell_type": "markdown",
      "metadata": {
        "id": "VWwILg-j-aIN"
      },
      "source": [
        "Import all the libraries needed like numpy,pandas and matplotlib"
      ]
    },
    {
      "cell_type": "code",
      "metadata": {
        "id": "0sbreJQETK2w"
      },
      "source": [
        "import numpy as np\n",
        "import pandas as pd\n",
        "import matplotlib.pyplot as plt"
      ],
      "execution_count": 137,
      "outputs": []
    },
    {
      "cell_type": "markdown",
      "metadata": {
        "id": "dpKjZsoCFYOC"
      },
      "source": [
        "**Read dataset**"
      ]
    },
    {
      "cell_type": "markdown",
      "metadata": {
        "id": "lOPJ2in--fwq"
      },
      "source": [
        "Read the dataset given from the csv file"
      ]
    },
    {
      "cell_type": "code",
      "metadata": {
        "id": "8OIm28M-XP1S"
      },
      "source": [
        "data_url=\"https://raw.githubusercontent.com/AdiPersonalWorks/Random/master/student_scores%20-%20student_scores.csv\"\n",
        "dataf=pd.read_csv(data_url)"
      ],
      "execution_count": 138,
      "outputs": []
    },
    {
      "cell_type": "code",
      "metadata": {
        "colab": {
          "base_uri": "https://localhost:8080/",
          "height": 204
        },
        "id": "SToXEaO4XtJ6",
        "outputId": "a0752d24-a139-4bc8-bb5c-cd4583ab55ef"
      },
      "source": [
        "dataf.head()"
      ],
      "execution_count": 139,
      "outputs": [
        {
          "output_type": "execute_result",
          "data": {
            "text/html": [
              "<div>\n",
              "<style scoped>\n",
              "    .dataframe tbody tr th:only-of-type {\n",
              "        vertical-align: middle;\n",
              "    }\n",
              "\n",
              "    .dataframe tbody tr th {\n",
              "        vertical-align: top;\n",
              "    }\n",
              "\n",
              "    .dataframe thead th {\n",
              "        text-align: right;\n",
              "    }\n",
              "</style>\n",
              "<table border=\"1\" class=\"dataframe\">\n",
              "  <thead>\n",
              "    <tr style=\"text-align: right;\">\n",
              "      <th></th>\n",
              "      <th>Hours</th>\n",
              "      <th>Scores</th>\n",
              "    </tr>\n",
              "  </thead>\n",
              "  <tbody>\n",
              "    <tr>\n",
              "      <th>0</th>\n",
              "      <td>2.5</td>\n",
              "      <td>21</td>\n",
              "    </tr>\n",
              "    <tr>\n",
              "      <th>1</th>\n",
              "      <td>5.1</td>\n",
              "      <td>47</td>\n",
              "    </tr>\n",
              "    <tr>\n",
              "      <th>2</th>\n",
              "      <td>3.2</td>\n",
              "      <td>27</td>\n",
              "    </tr>\n",
              "    <tr>\n",
              "      <th>3</th>\n",
              "      <td>8.5</td>\n",
              "      <td>75</td>\n",
              "    </tr>\n",
              "    <tr>\n",
              "      <th>4</th>\n",
              "      <td>3.5</td>\n",
              "      <td>30</td>\n",
              "    </tr>\n",
              "  </tbody>\n",
              "</table>\n",
              "</div>"
            ],
            "text/plain": [
              "   Hours  Scores\n",
              "0    2.5      21\n",
              "1    5.1      47\n",
              "2    3.2      27\n",
              "3    8.5      75\n",
              "4    3.5      30"
            ]
          },
          "metadata": {
            "tags": []
          },
          "execution_count": 139
        }
      ]
    },
    {
      "cell_type": "markdown",
      "metadata": {
        "id": "36ojfY7EFgYu"
      },
      "source": [
        "**Find x and y values**"
      ]
    },
    {
      "cell_type": "markdown",
      "metadata": {
        "id": "_DGuy9WV-n4w"
      },
      "source": [
        "Segregate the values of x and y and print them for confirmation."
      ]
    },
    {
      "cell_type": "code",
      "metadata": {
        "id": "pjTqfmW3Xvh2",
        "colab": {
          "base_uri": "https://localhost:8080/"
        },
        "outputId": "9b5bd8bc-ff04-4c08-8ee6-69db98e6bcc5"
      },
      "source": [
        "x=dataf[[\"Hours\"]].values\n",
        "y=dataf[[\"Scores\"]].values\n",
        "print(\"Hours:\",x)\n",
        "print(\"scores:\",y)"
      ],
      "execution_count": 140,
      "outputs": [
        {
          "output_type": "stream",
          "text": [
            "Hours: [[2.5]\n",
            " [5.1]\n",
            " [3.2]\n",
            " [8.5]\n",
            " [3.5]\n",
            " [1.5]\n",
            " [9.2]\n",
            " [5.5]\n",
            " [8.3]\n",
            " [2.7]\n",
            " [7.7]\n",
            " [5.9]\n",
            " [4.5]\n",
            " [3.3]\n",
            " [1.1]\n",
            " [8.9]\n",
            " [2.5]\n",
            " [1.9]\n",
            " [6.1]\n",
            " [7.4]\n",
            " [2.7]\n",
            " [4.8]\n",
            " [3.8]\n",
            " [6.9]\n",
            " [7.8]]\n",
            "scores: [[21]\n",
            " [47]\n",
            " [27]\n",
            " [75]\n",
            " [30]\n",
            " [20]\n",
            " [88]\n",
            " [60]\n",
            " [81]\n",
            " [25]\n",
            " [85]\n",
            " [62]\n",
            " [41]\n",
            " [42]\n",
            " [17]\n",
            " [95]\n",
            " [30]\n",
            " [24]\n",
            " [67]\n",
            " [69]\n",
            " [30]\n",
            " [54]\n",
            " [35]\n",
            " [76]\n",
            " [86]]\n"
          ],
          "name": "stdout"
        }
      ]
    },
    {
      "cell_type": "markdown",
      "metadata": {
        "id": "K_b0iV6uFu1w"
      },
      "source": [
        "**To check relation between x and y**"
      ]
    },
    {
      "cell_type": "markdown",
      "metadata": {
        "id": "3libUnaZ-xp_"
      },
      "source": [
        "Make a scatter plot with the x and y values i.e the No. of study hours and the Percentage of marks obtained by the student. This helps us show a direct relationship between the two."
      ]
    },
    {
      "cell_type": "code",
      "metadata": {
        "colab": {
          "base_uri": "https://localhost:8080/",
          "height": 295
        },
        "id": "YgjPHjmzZHsh",
        "outputId": "061e5ecf-9446-4642-90a2-0cbcf15b0d4a"
      },
      "source": [
        "plt.scatter(x,y,color=\"black\")\n",
        "plt.xlabel(\"No.of study hours\",color=\"black\")\n",
        "plt.ylabel(\"Percentage of marks\",color=\"black\")\n",
        "plt.title(\"No. of study hours vs Percentage\",color=\"black\")\n",
        "plt.show()"
      ],
      "execution_count": 141,
      "outputs": [
        {
          "output_type": "display_data",
          "data": {
            "image/png": "[encoded data removed]",
            "text/plain": [
              "<Figure size 432x288 with 1 Axes>"
            ]
          },
          "metadata": {
            "tags": [],
            "needs_background": "light"
          }
        }
      ]
    },
    {
      "cell_type": "markdown",
      "metadata": {
        "id": "RTcTcseYF0Qm"
      },
      "source": [
        "**Train the model with the dataset**"
      ]
    },
    {
      "cell_type": "markdown",
      "metadata": {
        "id": "qZ3S6yrR_nS7"
      },
      "source": [
        "Import train_test_split from the sklearn library which splits the data into x_train,x_test,y_train and y_test."
      ]
    },
    {
      "cell_type": "code",
      "metadata": {
        "colab": {
          "base_uri": "https://localhost:8080/"
        },
        "id": "bYxVKZrwZ7Fu",
        "outputId": "cbc35608-bf32-4b15-edd4-130866bd91e6"
      },
      "source": [
        "from sklearn.model_selection import train_test_split\n",
        "x_train,x_test,y_train,y_test=np.array(train_test_split(x,y,test_size=0.2,random_state=100))\n",
        "print(\"x_train:\\n\",x_train[:5],\" x_test:\\n\",x_test[:5],\"y_train:\\n\",y_train[:5],\"y_test:\\n\",y_test[:5])"
      ],
      "execution_count": 142,
      "outputs": [
        {
          "output_type": "stream",
          "text": [
            "x_train:\n",
            " [[7.4]\n",
            " [6.9]\n",
            " [4.8]\n",
            " [9.2]\n",
            " [4.5]]  x_test:\n",
            " [[2.7]\n",
            " [3.8]\n",
            " [3.3]\n",
            " [5.9]\n",
            " [1.5]] y_train:\n",
            " [[69]\n",
            " [76]\n",
            " [54]\n",
            " [88]\n",
            " [41]] y_test:\n",
            " [[25]\n",
            " [35]\n",
            " [42]\n",
            " [62]\n",
            " [20]]\n"
          ],
          "name": "stdout"
        },
        {
          "output_type": "stream",
          "text": [
            "/usr/local/lib/python3.7/dist-packages/ipykernel_launcher.py:2: VisibleDeprecationWarning: Creating an ndarray from ragged nested sequences (which is a list-or-tuple of lists-or-tuples-or ndarrays with different lengths or shapes) is deprecated. If you meant to do this, you must specify 'dtype=object' when creating the ndarray\n",
            "  \n"
          ],
          "name": "stderr"
        }
      ]
    },
    {
      "cell_type": "code",
      "metadata": {
        "colab": {
          "base_uri": "https://localhost:8080/"
        },
        "id": "DYT6RUsCanQt",
        "outputId": "428ea19f-32ec-4a0f-a6c7-298ddca20c75"
      },
      "source": [
        "print(\"Print shapes of x_train,x_test,y_train and y_test\")\n",
        "print(x_train.shape)\n",
        "print(x_test.shape)\n",
        "print(y_train.shape)\n",
        "print(y_test.shape)"
      ],
      "execution_count": 143,
      "outputs": [
        {
          "output_type": "stream",
          "text": [
            "Print shapes of x_train,x_test,y_train and y_test\n",
            "(20, 1)\n",
            "(5, 1)\n",
            "(20, 1)\n",
            "(5, 1)\n"
          ],
          "name": "stdout"
        }
      ]
    },
    {
      "cell_type": "markdown",
      "metadata": {
        "id": "wDxFr3C6Auo9"
      },
      "source": [
        "Import LinearRegression from sklearn.linear_model and train the model with x_train and y_train values."
      ]
    },
    {
      "cell_type": "code",
      "metadata": {
        "colab": {
          "base_uri": "https://localhost:8080/"
        },
        "id": "f8EK8caRbToM",
        "outputId": "4cf52240-321c-4ecb-bc85-1822366039b5"
      },
      "source": [
        "from sklearn.linear_model import LinearRegression\n",
        "linear_model=LinearRegression()\n",
        "linear_model.fit(x_train,y_train)"
      ],
      "execution_count": 144,
      "outputs": [
        {
          "output_type": "execute_result",
          "data": {
            "text/plain": [
              "LinearRegression(copy_X=True, fit_intercept=True, n_jobs=None, normalize=False)"
            ]
          },
          "metadata": {
            "tags": []
          },
          "execution_count": 144
        }
      ]
    },
    {
      "cell_type": "markdown",
      "metadata": {
        "id": "71W47Aq-BFqi"
      },
      "source": [
        "You can also print out the intercept and the slope of the equation."
      ]
    },
    {
      "cell_type": "code",
      "metadata": {
        "colab": {
          "base_uri": "https://localhost:8080/"
        },
        "id": "wiMTh9GIdDR-",
        "outputId": "9c2f3820-746c-42ea-8af4-dfb66f676638"
      },
      "source": [
        "print(\"Intercept(b1):\",linear_model.intercept_[0])\n",
        "print(\"Slope(b0):\",linear_model.coef_[0][0])"
      ],
      "execution_count": 145,
      "outputs": [
        {
          "output_type": "stream",
          "text": [
            "Intercept(b1): 1.989423110974684\n",
            "Slope(b0): 9.835444382798393\n"
          ],
          "name": "stdout"
        }
      ]
    },
    {
      "cell_type": "markdown",
      "metadata": {
        "id": "jTi70uqQDcrh"
      },
      "source": [
        "Coefficient of determination also called as R2 score is used to evaluate the performance of a linear regression model. It is the amount of the variation in the output dependent attribute which is predictable from the input independent variable.Greater the r2 value, better the model."
      ]
    },
    {
      "cell_type": "markdown",
      "metadata": {
        "id": "HtqwxzUsF9aA"
      },
      "source": [
        "**Check the accuracy of the model in predicting the data and the error in calculations**"
      ]
    },
    {
      "cell_type": "code",
      "metadata": {
        "colab": {
          "base_uri": "https://localhost:8080/"
        },
        "id": "pSOc2_vpeTFA",
        "outputId": "1f414869-d209-4bf9-8a40-a978407f9a0d"
      },
      "source": [
        "from sklearn.metrics import r2_score\n",
        "ytrain_pred=np.array(linear_model.predict(x_train))\n",
        "ytest_pred=np.array(linear_model.predict(x_test))\n",
        "print(\"Actual values:\",y_test)\n",
        "print(\"Predicted values:\",ytest_pred)"
      ],
      "execution_count": 146,
      "outputs": [
        {
          "output_type": "stream",
          "text": [
            "Actual values: [[25]\n",
            " [35]\n",
            " [42]\n",
            " [62]\n",
            " [20]]\n",
            "Predicted values: [[28.54512294]\n",
            " [39.36411177]\n",
            " [34.44638957]\n",
            " [60.01854497]\n",
            " [16.74258969]]\n"
          ],
          "name": "stdout"
        }
      ]
    },
    {
      "cell_type": "code",
      "metadata": {
        "colab": {
          "base_uri": "https://localhost:8080/"
        },
        "id": "c7CKDfbDhSlc",
        "outputId": "904142c3-fabb-4eca-db78-a22b82e600e0"
      },
      "source": [
        "print(\"R2 train score:\",r2_score(y_train,ytrain_pred))\n",
        "print(\"R2 test score:\",r2_score(y_test,ytest_pred))"
      ],
      "execution_count": 147,
      "outputs": [
        {
          "output_type": "stream",
          "text": [
            "R2 train score: 0.9519568836485192\n",
            "R2 test score: 0.9050356232459791\n"
          ],
          "name": "stdout"
        }
      ]
    },
    {
      "cell_type": "code",
      "metadata": {
        "colab": {
          "base_uri": "https://localhost:8080/"
        },
        "id": "uPnYauv6h96m",
        "outputId": "f29f9d35-b41b-435b-89ff-40b7db03e636"
      },
      "source": [
        "print(\"R2 train score:\",linear_model.score(x_train,y_train))\n",
        "print(\"R2 test score:\",linear_model.score(x_test,y_test))"
      ],
      "execution_count": 148,
      "outputs": [
        {
          "output_type": "stream",
          "text": [
            "R2 train score: 0.9519568836485192\n",
            "R2 test score: 0.9050356232459791\n"
          ],
          "name": "stdout"
        }
      ]
    },
    {
      "cell_type": "markdown",
      "metadata": {
        "id": "MbaO5aHtGgbj"
      },
      "source": [
        "In the end we print the mean absolute error which is the average of the error between the actual and predicted values."
      ]
    },
    {
      "cell_type": "code",
      "metadata": {
        "colab": {
          "base_uri": "https://localhost:8080/"
        },
        "id": "N3wCnajCGbbA",
        "outputId": "e37faf8f-de18-4210-8b57-28c9833eab0f"
      },
      "source": [
        "from sklearn.metrics import mean_absolute_error\n",
        "mae=mean_absolute_error(y_test,ytest_pred)\n",
        "print(\"The mean absolute error of the model is\",mae)"
      ],
      "execution_count": 149,
      "outputs": [
        {
          "output_type": "stream",
          "text": [
            "The mean absolute error of the model is 4.140342096254413\n"
          ],
          "name": "stdout"
        }
      ]
    },
    {
      "cell_type": "markdown",
      "metadata": {
        "id": "4pcmUQ60GEBU"
      },
      "source": [
        "**Make a final plot showing the dataset and the linear graph passing through it which shows the relation**"
      ]
    },
    {
      "cell_type": "markdown",
      "metadata": {
        "id": "FQvO7WNEDsAK"
      },
      "source": [
        "Finally, plot a scatter plot of the train and test values with the linear regression line. "
      ]
    },
    {
      "cell_type": "code",
      "metadata": {
        "colab": {
          "base_uri": "https://localhost:8080/",
          "height": 295
        },
        "id": "AoZlY5E0iQbA",
        "outputId": "66b1e838-51a2-459e-c579-3be998f24ec6"
      },
      "source": [
        "plt.scatter(x_train,y_train,color=\"blue\")\n",
        "plt.scatter(x_test,y_test,color=\"yellow\")\n",
        "plt.xlabel(\"No.of study hours\",color=\"black\")\n",
        "plt.ylabel(\"Percentage of marks\",color=\"black\")\n",
        "plt.title(\"No. of study hours vs Percentage\",color=\"black\")\n",
        "plt.plot(x_train,linear_model.predict(x_train),color=\"black\")\n",
        "plt.show()"
      ],
      "execution_count": 150,
      "outputs": [
        {
          "output_type": "display_data",
          "data": {
            "image/png": "[encoded data removed]",
            "text/plain": [
              "<Figure size 432x288 with 1 Axes>"
            ]
          },
          "metadata": {
            "tags": [],
            "needs_background": "light"
          }
        }
      ]
    },
    {
      "cell_type": "markdown",
      "metadata": {
        "id": "yaeszr5cEFAE"
      },
      "source": [
        "Here is a plot only for the test dataset."
      ]
    },
    {
      "cell_type": "code",
      "metadata": {
        "colab": {
          "base_uri": "https://localhost:8080/",
          "height": 295
        },
        "id": "WqsUxYr226EJ",
        "outputId": "b575136d-89cc-4dd6-e9cb-f0e7d8a005f1"
      },
      "source": [
        "plt.scatter(x_test,y_test,color=\"yellow\")\n",
        "plt.xlabel(\"No.of study hours\",color=\"black\")\n",
        "plt.ylabel(\"Percentage of marks\",color=\"black\")\n",
        "plt.title(\"No. of study hours vs Percentage\",color=\"black\")\n",
        "plt.plot(x_test,linear_model.predict(x_test),color=\"black\")\n",
        "plt.show()"
      ],
      "execution_count": 151,
      "outputs": [
        {
          "output_type": "display_data",
          "data": {
            "image/png": "[encoded data removed]",
            "text/plain": [
              "<Figure size 432x288 with 1 Axes>"
            ]
          },
          "metadata": {
            "tags": [],
            "needs_background": "light"
          }
        }
      ]
    },
    {
      "cell_type": "markdown",
      "metadata": {
        "id": "VYoHsdJvEo0m"
      },
      "source": [
        "Now, here we predict the percentage of marks obtained for the no.of hours given which is 9.25 with the linear model we have trained."
      ]
    },
    {
      "cell_type": "markdown",
      "metadata": {
        "id": "tRSntsfrGQEH"
      },
      "source": [
        "**Predition over the given value**"
      ]
    },
    {
      "cell_type": "code",
      "metadata": {
        "colab": {
          "base_uri": "https://localhost:8080/"
        },
        "id": "SPqwrSa33f1K",
        "outputId": "1c96c716-5c7b-4d11-b974-2070fa24b2b5"
      },
      "source": [
        "hours=9.25\n",
        "percentage=linear_model.predict(np.array(hours).reshape(1,-1))\n",
        "print(\"The predicted percentage score if the student studies\",hours,\"hours per day is\",percentage[0][0])"
      ],
      "execution_count": 152,
      "outputs": [
        {
          "output_type": "stream",
          "text": [
            "The predicted percentage score if the student studies 9.25 hours per day is 92.96728365185982\n"
          ],
          "name": "stdout"
        }
      ]
    }
  ]
}